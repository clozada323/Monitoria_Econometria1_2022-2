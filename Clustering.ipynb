{
  "nbformat": 4,
  "nbformat_minor": 0,
  "metadata": {
    "colab": {
      "provenance": [],
      "collapsed_sections": [],
      "include_colab_link": true
    },
    "kernelspec": {
      "name": "python3",
      "display_name": "Python 3"
    },
    "language_info": {
      "name": "python"
    }
  },
  "cells": [
    {
      "cell_type": "markdown",
      "metadata": {
        "id": "view-in-github",
        "colab_type": "text"
      },
      "source": [
        "<a href=\"https://colab.research.google.com/github/clozada323/Monitoria_Econometria1_2022-2/blob/main/Clustering.ipynb\" target=\"_parent\"><img src=\"https://colab.research.google.com/assets/colab-badge.svg\" alt=\"Open In Colab\"/></a>"
      ]
    },
    {
      "cell_type": "markdown",
      "source": [
        "# Clasificación \n",
        "# Fecha: Mayo 12 de 2022\n",
        "## **Contenido:**\n",
        "\n",
        "1. Dependencias\n",
        "2. Datos\n",
        "3. Regresión logística\n",
        "3. Árbol de clasificación\n",
        "4. Máquinas de soporte vectorial\n",
        "5. Bosques\n",
        "6. K-vecinos más cercanos\n",
        "7. Naive Bayes"
      ],
      "metadata": {
        "id": "auS4XyP4yYNY"
      }
    },
    {
      "cell_type": "markdown",
      "source": [
        "## 1. Dependencias"
      ],
      "metadata": {
        "id": "Ug2g-H2KyvUy"
      }
    },
    {
      "cell_type": "code",
      "source": [
        "import numpy as np\n",
        "import matplotlib.pyplot as plt\n",
        "from sklearn.linear_model import LogisticRegression\n",
        "from sklearn.tree import DecisionTreeClassifier\n",
        "from sklearn.datasets import load_wine\n",
        "from sklearn.model_selection import train_test_split\n",
        "from sklearn.preprocessing import StandardScaler\n",
        "from sklearn.metrics import confusion_matrix"
      ],
      "metadata": {
        "id": "1FEc7IXtyunR"
      },
      "execution_count": null,
      "outputs": []
    },
    {
      "cell_type": "markdown",
      "source": [
        "## 2. Datos"
      ],
      "metadata": {
        "id": "1a7YOJH_ztWl"
      }
    },
    {
      "cell_type": "code",
      "execution_count": null,
      "metadata": {
        "colab": {
          "base_uri": "https://localhost:8080/"
        },
        "id": "om20PRWeyVwE",
        "outputId": "b2f06b3f-eee8-4c26-da37-b0b42c52007c"
      },
      "outputs": [
        {
          "output_type": "stream",
          "name": "stdout",
          "text": [
            "[[1.423e+01 1.710e+00 2.430e+00 ... 1.040e+00 3.920e+00 1.065e+03]\n",
            " [1.320e+01 1.780e+00 2.140e+00 ... 1.050e+00 3.400e+00 1.050e+03]\n",
            " [1.316e+01 2.360e+00 2.670e+00 ... 1.030e+00 3.170e+00 1.185e+03]\n",
            " ...\n",
            " [1.327e+01 4.280e+00 2.260e+00 ... 5.900e-01 1.560e+00 8.350e+02]\n",
            " [1.317e+01 2.590e+00 2.370e+00 ... 6.000e-01 1.620e+00 8.400e+02]\n",
            " [1.413e+01 4.100e+00 2.740e+00 ... 6.100e-01 1.600e+00 5.600e+02]]\n",
            "['alcohol', 'malic_acid', 'ash', 'alcalinity_of_ash', 'magnesium', 'total_phenols', 'flavanoids', 'nonflavanoid_phenols', 'proanthocyanins', 'color_intensity', 'hue', 'od280/od315_of_diluted_wines', 'proline']\n",
            "(178, 13)\n",
            "(178,)\n",
            "[0 0 0 0 0 0 0 0 0 0 0 0 0 0 0 0 0 0 0 0 0 0 0 0 0 0 0 0 0 0 0 0 0 0 0 0 0\n",
            " 0 0 0 0 0 0 0 0 0 0 0 0 0 0 0 0 0 0 0 0 0 0 1 1 1 1 1 1 1 1 1 1 1 1 1 1 1\n",
            " 1 1 1 1 1 1 1 1 1 1 1 1 1 1 1 1 1 1 1 1 1 1 1 1 1 1 1 1 1 1 1 1 1 1 1 1 1\n",
            " 1 1 1 1 1 1 1 1 1 1 1 1 1 1 1 1 1 1 1 2 2 2 2 2 2 2 2 2 2 2 2 2 2 2 2 2 2\n",
            " 2 2 2 2 2 2 2 2 2 2 2 2 2 2 2 2 2 2 2 2 2 2 2 2 2 2 2 2 2 2]\n",
            ".. _wine_dataset:\n",
            "\n",
            "Wine recognition dataset\n",
            "------------------------\n",
            "\n",
            "**Data Set Characteristics:**\n",
            "\n",
            "    :Number of Instances: 178 (50 in each of three classes)\n",
            "    :Number of Attributes: 13 numeric, predictive attributes and the class\n",
            "    :Attribute Information:\n",
            " \t\t- Alcohol\n",
            " \t\t- Malic acid\n",
            " \t\t- Ash\n",
            "\t\t- Alcalinity of ash  \n",
            " \t\t- Magnesium\n",
            "\t\t- Total phenols\n",
            " \t\t- Flavanoids\n",
            " \t\t- Nonflavanoid phenols\n",
            " \t\t- Proanthocyanins\n",
            "\t\t- Color intensity\n",
            " \t\t- Hue\n",
            " \t\t- OD280/OD315 of diluted wines\n",
            " \t\t- Proline\n",
            "\n",
            "    - class:\n",
            "            - class_0\n",
            "            - class_1\n",
            "            - class_2\n",
            "\t\t\n",
            "    :Summary Statistics:\n",
            "    \n",
            "    ============================= ==== ===== ======= =====\n",
            "                                   Min   Max   Mean     SD\n",
            "    ============================= ==== ===== ======= =====\n",
            "    Alcohol:                      11.0  14.8    13.0   0.8\n",
            "    Malic Acid:                   0.74  5.80    2.34  1.12\n",
            "    Ash:                          1.36  3.23    2.36  0.27\n",
            "    Alcalinity of Ash:            10.6  30.0    19.5   3.3\n",
            "    Magnesium:                    70.0 162.0    99.7  14.3\n",
            "    Total Phenols:                0.98  3.88    2.29  0.63\n",
            "    Flavanoids:                   0.34  5.08    2.03  1.00\n",
            "    Nonflavanoid Phenols:         0.13  0.66    0.36  0.12\n",
            "    Proanthocyanins:              0.41  3.58    1.59  0.57\n",
            "    Colour Intensity:              1.3  13.0     5.1   2.3\n",
            "    Hue:                          0.48  1.71    0.96  0.23\n",
            "    OD280/OD315 of diluted wines: 1.27  4.00    2.61  0.71\n",
            "    Proline:                       278  1680     746   315\n",
            "    ============================= ==== ===== ======= =====\n",
            "\n",
            "    :Missing Attribute Values: None\n",
            "    :Class Distribution: class_0 (59), class_1 (71), class_2 (48)\n",
            "    :Creator: R.A. Fisher\n",
            "    :Donor: Michael Marshall (MARSHALL%PLU@io.arc.nasa.gov)\n",
            "    :Date: July, 1988\n",
            "\n",
            "This is a copy of UCI ML Wine recognition datasets.\n",
            "https://archive.ics.uci.edu/ml/machine-learning-databases/wine/wine.data\n",
            "\n",
            "The data is the results of a chemical analysis of wines grown in the same\n",
            "region in Italy by three different cultivators. There are thirteen different\n",
            "measurements taken for different constituents found in the three types of\n",
            "wine.\n",
            "\n",
            "Original Owners: \n",
            "\n",
            "Forina, M. et al, PARVUS - \n",
            "An Extendible Package for Data Exploration, Classification and Correlation. \n",
            "Institute of Pharmaceutical and Food Analysis and Technologies,\n",
            "Via Brigata Salerno, 16147 Genoa, Italy.\n",
            "\n",
            "Citation:\n",
            "\n",
            "Lichman, M. (2013). UCI Machine Learning Repository\n",
            "[https://archive.ics.uci.edu/ml]. Irvine, CA: University of California,\n",
            "School of Information and Computer Science. \n",
            "\n",
            ".. topic:: References\n",
            "\n",
            "  (1) S. Aeberhard, D. Coomans and O. de Vel, \n",
            "  Comparison of Classifiers in High Dimensional Settings, \n",
            "  Tech. Rep. no. 92-02, (1992), Dept. of Computer Science and Dept. of  \n",
            "  Mathematics and Statistics, James Cook University of North Queensland. \n",
            "  (Also submitted to Technometrics). \n",
            "\n",
            "  The data was used with many others for comparing various \n",
            "  classifiers. The classes are separable, though only RDA \n",
            "  has achieved 100% correct classification. \n",
            "  (RDA : 100%, QDA 99.4%, LDA 98.9%, 1NN 96.1% (z-transformed data)) \n",
            "  (All results using the leave-one-out technique) \n",
            "\n",
            "  (2) S. Aeberhard, D. Coomans and O. de Vel, \n",
            "  \"THE CLASSIFICATION PERFORMANCE OF RDA\" \n",
            "  Tech. Rep. no. 92-01, (1992), Dept. of Computer Science and Dept. of \n",
            "  Mathematics and Statistics, James Cook University of North Queensland. \n",
            "  (Also submitted to Journal of Chemometrics).\n",
            "\n"
          ]
        }
      ],
      "source": [
        "datavino = load_wine()\n",
        "print(datavino.data)\n",
        "print(datavino.feature_names)\n",
        "print(datavino.data.shape)\n",
        "print(datavino.target.shape)\n",
        "print(datavino.target)\n",
        "print(datavino.DESCR)"
      ]
    },
    {
      "cell_type": "code",
      "source": [
        "## Definir x , y\n",
        "x = datavino.data\n",
        "y = datavino.target"
      ],
      "metadata": {
        "id": "h3mnAsy41A8z"
      },
      "execution_count": null,
      "outputs": []
    },
    {
      "cell_type": "code",
      "source": [
        "# División de los datos \n",
        "x_train, x_test, y_train, y_test = train_test_split(x, y, test_size=0.2, random_state=100)"
      ],
      "metadata": {
        "id": "z5PNU4yH1mix"
      },
      "execution_count": null,
      "outputs": []
    },
    {
      "cell_type": "code",
      "source": [
        "## Escalar los datos\n",
        "datosescalados = StandardScaler()\n",
        "x_train = datosescalados.fit_transform(x_train)\n",
        "x_test = datosescalados.fit_transform(x_test)"
      ],
      "metadata": {
        "id": "k99a13gm2UH8"
      },
      "execution_count": null,
      "outputs": []
    },
    {
      "cell_type": "code",
      "source": [
        "print(x_test)\n",
        "print(x_train)"
      ],
      "metadata": {
        "colab": {
          "base_uri": "https://localhost:8080/"
        },
        "id": "yNvOayfd3OBV",
        "outputId": "2ea058ce-f97d-49e3-b284-cbe5424920e6"
      },
      "execution_count": null,
      "outputs": [
        {
          "output_type": "stream",
          "name": "stdout",
          "text": [
            "[[-1.6744596  -0.31550716  0.42841285  0.79461476 -0.91541012 -0.20057636\n",
            "  -0.01675181  0.88913661 -0.27307489 -0.88334427  0.29802009  0.60559528\n",
            "  -0.04713983]\n",
            " [ 0.80079601 -0.6648542   1.16283489  1.10368461 -0.65344856  0.87344806\n",
            "  -0.7144154   1.22083524  1.25940509  2.25323856 -1.2658277  -0.86911791\n",
            "  -0.26470829]\n",
            " [ 1.66175449 -0.83504892 -0.14280428 -0.85375775 -0.33909469  0.21250996\n",
            "   0.85828388 -0.93520587  0.08559064 -0.11234067  0.9162855   0.71201788\n",
            "   2.12854473]\n",
            " [-1.24398036 -1.18439596 -0.22440673  0.5885682  -0.02474081  2.16227737\n",
            "   0.51536449 -2.01322642  0.21601447 -0.73965723  0.26165154  1.18331797\n",
            "   0.6998452 ]\n",
            " [ 1.95770896 -0.65589659  1.40764223  1.96221196 -0.18191775  1.20391712\n",
            "  -0.46609446  1.3037599   1.92782721  2.69130879 -1.2658277  -0.59545979\n",
            "  -0.11966265]\n",
            " [ 0.26269696  1.33269428  0.02040061  0.76027367  0.60396693 -1.0928428\n",
            "  -0.37149601 -0.2718086  -0.61543744  1.42966653 -1.2658277  -1.5532632\n",
            "  -0.51853815]\n",
            " [-0.80004865  0.67878828 -0.59161775 -0.44166463 -0.70584087  1.28653438\n",
            "   1.52047306  0.64036264  2.10715997 -1.05857236  1.82549933  0.72722111\n",
            "  -1.04070245]\n",
            " [-1.44576751 -0.26176146  1.57084713  0.76027367  1.70420548 -0.7788972\n",
            "  -0.84448828 -1.93030176  0.06928766 -0.98848112  0.11617732 -0.13936293\n",
            "  -0.24657758]\n",
            " [-1.08255065 -0.52153234 -0.14280428 -0.26995916 -1.07258705 -0.7788972\n",
            "  -0.24142314  1.22083524  0.19971149 -1.02352674  0.58896852 -0.1241597\n",
            "  -0.77236802]\n",
            " [-0.55790408 -0.79921845 -0.63241897 -0.09825369  3.17119021  0.70821354\n",
            "   0.66908698 -0.43765792  2.87339996 -0.9534355   0.87991694  0.42315653\n",
            "   0.88477839]\n",
            " [-0.50409418 -1.05003172 -0.42841285 -0.6133701  -0.8630178  -0.11795909\n",
            "  -1.32930535  1.88423251 -0.43610468  0.04536462 -0.61119374 -1.27960508\n",
            "  -0.15592406]\n",
            " [-0.69242884 -1.07690457  0.83642509 -0.40732353 -0.18191775  0.57602592\n",
            "   1.11842963 -0.02303463  0.91704254 -0.25252314  0.9890226  -0.07855001\n",
            "  -0.05439211]\n",
            " [-0.1543298  -0.01990581 -0.30600918  0.07345178 -0.81062549 -1.1258897\n",
            "  -1.412079    0.88913661 -1.43058636  1.60489427 -1.2658277  -1.09716634\n",
            "  -0.80862943]\n",
            " [ 1.13710792  1.74474464 -0.38761163  1.10368461 -0.70584087 -1.30764768\n",
            "  -1.45937822  1.22083524 -0.59913446  0.45539835 -0.50208808 -0.91472759\n",
            "  -0.62732238]\n",
            " [ 0.6931762   1.95972744  2.06046181  1.96221196  0.55157462 -0.151006\n",
            "  -0.8799627  -0.85228121 -0.66434637  1.11425597 -0.90214217 -0.65627271\n",
            "  -0.22844688]\n",
            " [ 1.00258315 -0.53944757  1.40764223 -0.71639338  0.55157462  1.28653438\n",
            "   1.4258746  -0.60350723 -0.09374213  0.69370855  1.31633958  0.80323725\n",
            "   2.23732896]\n",
            " [ 0.37031677  1.03709294 -0.83642509  0.5885682   0.0276515  -0.94413172\n",
            "  -1.36477977  0.47451332 -0.35458978 -0.46279685 -1.15672204 -1.02115019\n",
            "   0.49678131]\n",
            " [ 1.58103963 -0.23488861  1.04043121 -0.579029    1.02310542  0.87344806\n",
            "   0.95288234 -0.52058258 -0.43610468 -0.09481786  0.51623141  1.86746326\n",
            "   2.18293685]\n",
            " [-1.40541008  0.42797501 -0.5100153  -0.44166463  0.55157462 -0.58061576\n",
            "  -0.45426966  0.47451332 -0.92519403 -0.93591269  0.15254588  0.25592102\n",
            "  -0.6998452 ]\n",
            " [ 0.70662868  1.27894858 -0.95882877 -0.16693587 -0.60105624  0.62559627\n",
            "   1.15390405 -0.85228121 -0.06113617 -0.36466912 -0.02929689  0.98567599\n",
            "   1.2401402 ]\n",
            " [ 0.82770096  0.63400019  1.08123244  1.61880102  1.12789005 -1.10936625\n",
            "  -0.15864949 -1.2669045  -0.43610468  1.14930159 -1.1930906  -1.59887288\n",
            "  -0.6998452 ]\n",
            " [ 1.06984553 -0.52153234  0.02040061 -0.71639338  0.13243612  0.57602592\n",
            "   1.16572886  0.39158866  0.73770978 -0.51886984  1.13449682  0.78803402\n",
            "   1.07696386]\n",
            " [-0.1543298   0.91168631 -1.5300459  -1.12848651 -1.12497936 -0.72932684\n",
            "  -0.5370433   0.47451332 -1.12082977 -0.67307056 -0.79303651 -0.35220813\n",
            "  -1.16399124]\n",
            " [-0.26194961 -0.79026084 -0.38761163  0.48554491 -1.12497936 -1.14241315\n",
            "  -0.28872236  1.71838319  0.16710553 -0.79573022  0.15254588 -0.4434275\n",
            "  -0.71797591]\n",
            " [ 0.90841582 -0.62902374 -0.18360551 -1.05980432  0.81353618  1.78223796\n",
            "   1.87521726 -0.2718086   1.34091998  0.28367482  0.11617732  1.56339868\n",
            "   0.36986638]\n",
            " [ 0.42412668 -0.56632042 -0.87722632 -2.77685902 -0.07713313  0.95606533\n",
            "   1.2485025  -0.93520587 -0.38719574 -0.3296235   0.47986286  1.59380514\n",
            "   1.29453232]\n",
            " [-1.64755465 -0.47674426 -1.77485325 -1.12848651 -0.23431006 -0.76237374\n",
            "  -0.15864949 -0.2718086  -0.59913446 -0.53288808  1.13449682 -0.32180167\n",
            "  -0.96092735]\n",
            " [-1.08255065 -0.91566747  0.59161775  1.10368461 -0.91541012  0.80735425\n",
            "   0.69273659  0.47451332 -0.77846722 -0.84829865  0.04344022  1.27453734\n",
            "  -1.11685141]\n",
            " [-0.96147837 -0.86192177  0.71402142 -0.09825369  0.13243612 -0.29971707\n",
            "   0.05419703  0.64036264 -0.7947702  -0.83077584  1.93460499 -0.18497262\n",
            "  -1.22563564]\n",
            " [ 0.10126725  0.92960154 -0.02040061 -0.26995916  0.23722075 -1.1258897\n",
            "  -1.18740767  0.22573935 -0.94149701 -0.01421294 -0.86577362 -0.91472759\n",
            "  -0.06527054]\n",
            " [-0.01980503  1.96868506  0.5100153   0.76027367 -0.81062549 -0.61366267\n",
            "  -1.2465317   0.80621195 -1.07192084  0.81636822 -1.37493336 -0.74749208\n",
            "  -0.24657758]\n",
            " [-0.90766846 -1.0948198  -2.46847406 -0.85375775  2.59487478 -0.36581088\n",
            "  -0.50156888 -1.93030176  1.60176764 -0.86582146  1.31633958  1.09209859\n",
            "   0.09065352]\n",
            " [ 0.67972373 -0.57527804  1.08123244 -1.09414541 -0.44387931  1.28653438\n",
            "   1.46134902 -0.2718086  -0.1100451  -0.1824319   0.00707166  1.32014703\n",
            "   1.82032275]\n",
            " [-0.80004865 -0.89775223 -1.5300459  -1.12848651 -0.8630178   0.7908308\n",
            "   0.94105753 -0.68643189  0.41165021 -0.84829865  1.13449682  0.59039205\n",
            "  -0.96092735]\n",
            " [ 1.33889506  2.35386257 -0.5100153   0.24515725 -1.12497936 -1.80335126\n",
            "  -1.61310071  0.22573935 -1.36537445 -0.14738628 -1.22945915 -1.5532632\n",
            "  -1.00806718]\n",
            " [-0.12742484  0.23090745  0.5100153   0.93197914  0.55157462 -0.97717863\n",
            "  -0.40697043 -1.10105518 -0.4198017   1.92030519 -1.59314469 -1.340418\n",
            "  -0.77236802]]\n",
            "[[-0.61976695  0.10146433 -0.711617   ... -0.31628086  0.14522004\n",
            "  -1.3544804 ]\n",
            " [-1.25168619  1.00027494 -1.31820014 ... -0.17557947  0.52814549\n",
            "  -0.61124517]\n",
            " [-1.00864033  0.64075069 -0.17639659 ... -1.44189192 -1.20211028\n",
            "  -0.77917279]\n",
            " ...\n",
            " [-0.80205135 -1.03103705 -1.60365103 ...  0.71552929  1.13798974\n",
            "  -0.77917279]\n",
            " [ 0.57115778 -0.45579826  0.85836288 ...  0.71552929  1.62019217\n",
            "   0.26260044]\n",
            " [ 2.18741276 -0.60859606 -0.711617   ...  0.52792744  0.24449701\n",
            "   0.88455461]]\n"
          ]
        }
      ]
    },
    {
      "cell_type": "markdown",
      "source": [
        "## 3. Árbol de clasificación"
      ],
      "metadata": {
        "id": "EOqHfRO-34uk"
      }
    },
    {
      "cell_type": "code",
      "source": [
        "#Definir modelo\n",
        "#modeloAC = DecisionTreeClassifier(criterion=\"gini\", max_depth=3)\n",
        "modeloAC = DecisionTreeClassifier(criterion=\"gini\")\n",
        "#Entrenamiento\n",
        "modeloAC.fit(x_train, y_train)\n",
        "#Predicción\n",
        "y_predAC = modeloAC.predict(x_test)"
      ],
      "metadata": {
        "id": "aZm__pqh388U"
      },
      "execution_count": null,
      "outputs": []
    },
    {
      "cell_type": "code",
      "source": [
        "plt.plot(y_test[0:20], \"bo\")\n",
        "plt.plot(y_predAC[0:20], \"go\")\n",
        "plt.show()"
      ],
      "metadata": {
        "colab": {
          "base_uri": "https://localhost:8080/",
          "height": 265
        },
        "id": "glhObZsw5Zpt",
        "outputId": "39aab853-0307-4205-efb0-0757e5e7d823"
      },
      "execution_count": null,
      "outputs": [
        {
          "output_type": "display_data",
          "data": {
            "text/plain": [
              "<Figure size 432x288 with 1 Axes>"
            ],
            "image/png": "[encoded data removed]"
          },
          "metadata": {
            "needs_background": "light"
          }
        }
      ]
    },
    {
      "cell_type": "code",
      "source": [
        "#Matriz de confusión\n",
        "matriz = confusion_matrix(y_test, y_predAC)\n",
        "print(matriz)"
      ],
      "metadata": {
        "colab": {
          "base_uri": "https://localhost:8080/"
        },
        "id": "f7cwuWSR6Vwt",
        "outputId": "1e766be1-3fc6-478f-cab3-b07de40d5af5"
      },
      "execution_count": null,
      "outputs": [
        {
          "output_type": "stream",
          "name": "stdout",
          "text": [
            "[[ 8  0  0]\n",
            " [ 2 12  1]\n",
            " [ 1  4  8]]\n"
          ]
        }
      ]
    },
    {
      "cell_type": "code",
      "source": [
        "from sklearn.metrics import precision_score\n",
        "precision = precision_score(y_test, y_predAC, average=\"macro\")\n",
        "print(precision)\n",
        "from sklearn.metrics import accuracy_score\n",
        "exactitud = accuracy_score(y_test, y_predAC)\n",
        "print(exactitud)\n",
        "from sklearn.metrics import recall_score ##sensibilidad\n",
        "sensibilidad = recall_score(y_test, y_predAC, average=\"macro\")\n",
        "print(sensibilidad)\n",
        "from sklearn.metrics import f1_score ##puntaje F1\n",
        "puntajef1 = f1_score(y_test, y_predAC, average=\"macro\")\n",
        "print(puntajef1)\n",
        "from sklearn.metrics import roc_auc_score ##roc_auc\n",
        "y_pred_ra = modeloAC.predict_proba(x_test)\n",
        "roc_auc = roc_auc_score(y_test, y_pred_ra, multi_class=\"ovr\")\n",
        "print(roc_auc)"
      ],
      "metadata": {
        "colab": {
          "base_uri": "https://localhost:8080/"
        },
        "id": "lTh1nS99NQb9",
        "outputId": "76279a73-c985-42f7-e966-81fc589c19f9"
      },
      "execution_count": null,
      "outputs": [
        {
          "output_type": "stream",
          "name": "stdout",
          "text": [
            "0.7887205387205386\n",
            "0.7777777777777778\n",
            "0.8051282051282053\n",
            "0.7811905129392397\n",
            "0.8457145511493338\n"
          ]
        }
      ]
    },
    {
      "cell_type": "code",
      "source": [
        "y_pred_ra = modeloAC.predict_proba(x_test)\n",
        "y_pred_ra"
      ],
      "metadata": {
        "colab": {
          "base_uri": "https://localhost:8080/"
        },
        "id": "SBnwx7UXaTL0",
        "outputId": "ff031691-4cd4-45de-85fa-07006b3272b0"
      },
      "execution_count": null,
      "outputs": [
        {
          "output_type": "execute_result",
          "data": {
            "text/plain": [
              "array([[0., 1., 0.],\n",
              "       [0., 1., 0.],\n",
              "       [1., 0., 0.],\n",
              "       [1., 0., 0.],\n",
              "       [0., 1., 0.],\n",
              "       [1., 0., 0.],\n",
              "       [0., 1., 0.],\n",
              "       [0., 0., 1.],\n",
              "       [0., 1., 0.],\n",
              "       [1., 0., 0.],\n",
              "       [0., 0., 1.],\n",
              "       [0., 1., 0.],\n",
              "       [0., 0., 1.],\n",
              "       [0., 0., 1.],\n",
              "       [0., 0., 1.],\n",
              "       [1., 0., 0.],\n",
              "       [0., 0., 1.],\n",
              "       [1., 0., 0.],\n",
              "       [0., 1., 0.],\n",
              "       [1., 0., 0.],\n",
              "       [0., 1., 0.],\n",
              "       [1., 0., 0.],\n",
              "       [0., 1., 0.],\n",
              "       [0., 1., 0.],\n",
              "       [1., 0., 0.],\n",
              "       [1., 0., 0.],\n",
              "       [0., 1., 0.],\n",
              "       [0., 1., 0.],\n",
              "       [0., 1., 0.],\n",
              "       [0., 0., 1.],\n",
              "       [0., 0., 1.],\n",
              "       [0., 1., 0.],\n",
              "       [1., 0., 0.],\n",
              "       [0., 1., 0.],\n",
              "       [0., 0., 1.],\n",
              "       [0., 1., 0.]])"
            ]
          },
          "metadata": {},
          "execution_count": 22
        }
      ]
    },
    {
      "cell_type": "code",
      "source": [
        "y_predAC"
      ],
      "metadata": {
        "colab": {
          "base_uri": "https://localhost:8080/"
        },
        "id": "C1ee23fcaik6",
        "outputId": "39141e37-5fee-4130-b7fb-0cb4bda2f2b3"
      },
      "execution_count": null,
      "outputs": [
        {
          "output_type": "execute_result",
          "data": {
            "text/plain": [
              "array([1, 1, 0, 0, 1, 0, 1, 2, 1, 0, 2, 1, 2, 2, 2, 0, 2, 0, 1, 0, 1, 0,\n",
              "       1, 1, 0, 0, 1, 1, 1, 2, 2, 1, 0, 1, 2, 1])"
            ]
          },
          "metadata": {},
          "execution_count": 23
        }
      ]
    },
    {
      "cell_type": "code",
      "source": [
        "from sklearn.metrics import plot_roc_curve\n",
        "plot_roc_curve(modeloAC, x_test, y_test)  \n",
        "plt.show()  "
      ],
      "metadata": {
        "colab": {
          "base_uri": "https://localhost:8080/",
          "height": 453
        },
        "id": "5HKsBZMfcJgq",
        "outputId": "b3271675-e0c2-41da-c47a-918f9d8ee683"
      },
      "execution_count": null,
      "outputs": [
        {
          "output_type": "stream",
          "name": "stderr",
          "text": [
            "/usr/local/lib/python3.7/dist-packages/sklearn/utils/deprecation.py:87: FutureWarning: Function plot_roc_curve is deprecated; Function :func:`plot_roc_curve` is deprecated in 1.0 and will be removed in 1.2. Use one of the class methods: :meth:`sklearn.metric.RocCurveDisplay.from_predictions` or :meth:`sklearn.metric.RocCurveDisplay.from_estimator`.\n",
            "  warnings.warn(msg, category=FutureWarning)\n"
          ]
        },
        {
          "output_type": "error",
          "ename": "ValueError",
          "evalue": "ignored",
          "traceback": [
            "\u001b[0;31m---------------------------------------------------------------------------\u001b[0m",
            "\u001b[0;31mValueError\u001b[0m                                Traceback (most recent call last)",
            "\u001b[0;32m<ipython-input-29-f980a472855a>\u001b[0m in \u001b[0;36m<module>\u001b[0;34m()\u001b[0m\n\u001b[1;32m      1\u001b[0m \u001b[0;32mfrom\u001b[0m \u001b[0msklearn\u001b[0m\u001b[0;34m.\u001b[0m\u001b[0mmetrics\u001b[0m \u001b[0;32mimport\u001b[0m \u001b[0mplot_roc_curve\u001b[0m\u001b[0;34m\u001b[0m\u001b[0;34m\u001b[0m\u001b[0m\n\u001b[0;32m----> 2\u001b[0;31m \u001b[0mplot_roc_curve\u001b[0m\u001b[0;34m(\u001b[0m\u001b[0mmodeloAC\u001b[0m\u001b[0;34m,\u001b[0m \u001b[0mx_test\u001b[0m\u001b[0;34m,\u001b[0m \u001b[0my_test\u001b[0m\u001b[0;34m,\u001b[0m \u001b[0mresponse_method\u001b[0m\u001b[0;34m=\u001b[0m\u001b[0;34m'predict_proba'\u001b[0m\u001b[0;34m)\u001b[0m\u001b[0;34m\u001b[0m\u001b[0;34m\u001b[0m\u001b[0m\n\u001b[0m\u001b[1;32m      3\u001b[0m \u001b[0mplt\u001b[0m\u001b[0;34m.\u001b[0m\u001b[0mshow\u001b[0m\u001b[0;34m(\u001b[0m\u001b[0;34m)\u001b[0m\u001b[0;34m\u001b[0m\u001b[0;34m\u001b[0m\u001b[0m\n",
            "\u001b[0;32m/usr/local/lib/python3.7/dist-packages/sklearn/utils/deprecation.py\u001b[0m in \u001b[0;36mwrapped\u001b[0;34m(*args, **kwargs)\u001b[0m\n\u001b[1;32m     86\u001b[0m         \u001b[0;32mdef\u001b[0m \u001b[0mwrapped\u001b[0m\u001b[0;34m(\u001b[0m\u001b[0;34m*\u001b[0m\u001b[0margs\u001b[0m\u001b[0;34m,\u001b[0m \u001b[0;34m**\u001b[0m\u001b[0mkwargs\u001b[0m\u001b[0;34m)\u001b[0m\u001b[0;34m:\u001b[0m\u001b[0;34m\u001b[0m\u001b[0;34m\u001b[0m\u001b[0m\n\u001b[1;32m     87\u001b[0m             \u001b[0mwarnings\u001b[0m\u001b[0;34m.\u001b[0m\u001b[0mwarn\u001b[0m\u001b[0;34m(\u001b[0m\u001b[0mmsg\u001b[0m\u001b[0;34m,\u001b[0m \u001b[0mcategory\u001b[0m\u001b[0;34m=\u001b[0m\u001b[0mFutureWarning\u001b[0m\u001b[0;34m)\u001b[0m\u001b[0;34m\u001b[0m\u001b[0;34m\u001b[0m\u001b[0m\n\u001b[0;32m---> 88\u001b[0;31m             \u001b[0;32mreturn\u001b[0m \u001b[0mfun\u001b[0m\u001b[0;34m(\u001b[0m\u001b[0;34m*\u001b[0m\u001b[0margs\u001b[0m\u001b[0;34m,\u001b[0m \u001b[0;34m**\u001b[0m\u001b[0mkwargs\u001b[0m\u001b[0;34m)\u001b[0m\u001b[0;34m\u001b[0m\u001b[0;34m\u001b[0m\u001b[0m\n\u001b[0m\u001b[1;32m     89\u001b[0m \u001b[0;34m\u001b[0m\u001b[0m\n\u001b[1;32m     90\u001b[0m         \u001b[0mwrapped\u001b[0m\u001b[0;34m.\u001b[0m\u001b[0m__doc__\u001b[0m \u001b[0;34m=\u001b[0m \u001b[0mself\u001b[0m\u001b[0;34m.\u001b[0m\u001b[0m_update_doc\u001b[0m\u001b[0;34m(\u001b[0m\u001b[0mwrapped\u001b[0m\u001b[0;34m.\u001b[0m\u001b[0m__doc__\u001b[0m\u001b[0;34m)\u001b[0m\u001b[0;34m\u001b[0m\u001b[0;34m\u001b[0m\u001b[0m\n",
            "\u001b[0;32m/usr/local/lib/python3.7/dist-packages/sklearn/metrics/_plot/roc_curve.py\u001b[0m in \u001b[0;36mplot_roc_curve\u001b[0;34m(estimator, X, y, sample_weight, drop_intermediate, response_method, name, ax, pos_label, **kwargs)\u001b[0m\n\u001b[1;32m    450\u001b[0m \u001b[0;34m\u001b[0m\u001b[0m\n\u001b[1;32m    451\u001b[0m     y_pred, pos_label = _get_response(\n\u001b[0;32m--> 452\u001b[0;31m         \u001b[0mX\u001b[0m\u001b[0;34m,\u001b[0m \u001b[0mestimator\u001b[0m\u001b[0;34m,\u001b[0m \u001b[0mresponse_method\u001b[0m\u001b[0;34m,\u001b[0m \u001b[0mpos_label\u001b[0m\u001b[0;34m=\u001b[0m\u001b[0mpos_label\u001b[0m\u001b[0;34m\u001b[0m\u001b[0;34m\u001b[0m\u001b[0m\n\u001b[0m\u001b[1;32m    453\u001b[0m     )\n\u001b[1;32m    454\u001b[0m \u001b[0;34m\u001b[0m\u001b[0m\n",
            "\u001b[0;32m/usr/local/lib/python3.7/dist-packages/sklearn/metrics/_plot/base.py\u001b[0m in \u001b[0;36m_get_response\u001b[0;34m(X, estimator, response_method, pos_label)\u001b[0m\n\u001b[1;32m    107\u001b[0m         \u001b[0;32mif\u001b[0m \u001b[0my_pred_shape\u001b[0m \u001b[0;34m!=\u001b[0m \u001b[0;36m2\u001b[0m\u001b[0;34m:\u001b[0m\u001b[0;34m\u001b[0m\u001b[0;34m\u001b[0m\u001b[0m\n\u001b[1;32m    108\u001b[0m             raise ValueError(\n\u001b[0;32m--> 109\u001b[0;31m                 \u001b[0;34mf\"{classification_error} fit on multiclass ({y_pred_shape} classes)\"\u001b[0m\u001b[0;34m\u001b[0m\u001b[0;34m\u001b[0m\u001b[0m\n\u001b[0m\u001b[1;32m    110\u001b[0m                 \u001b[0;34m\" data\"\u001b[0m\u001b[0;34m\u001b[0m\u001b[0;34m\u001b[0m\u001b[0m\n\u001b[1;32m    111\u001b[0m             )\n",
            "\u001b[0;31mValueError\u001b[0m: Expected 'estimator' to be a binary classifier, but got DecisionTreeClassifier fit on multiclass (3 classes) data"
          ]
        }
      ]
    }
  ]
}